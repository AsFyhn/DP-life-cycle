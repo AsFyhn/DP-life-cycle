{
 "cells": [
  {
   "cell_type": "code",
   "execution_count": null,
   "metadata": {},
   "outputs": [],
   "source": [
    "# magics: ensures that any changes to the modules loaded below will be re-loaded automatically\n",
    "%load_ext autoreload\n",
    "%autoreload 2\n",
    "\n",
    "import os \n",
    "import sys\n",
    "local_path = os.path.abspath('')\n",
    "sys.path.append(local_path)\n",
    "import plotly.graph_objects as go\n",
    "from plotly.subplots import make_subplots"
   ]
  },
  {
   "cell_type": "code",
   "execution_count": null,
   "metadata": {},
   "outputs": [],
   "source": [
    "from functions import plotgenerator as pg\n",
    "from model import *\n",
    "from simulations import Simulator\n",
    "from estimation import SMD"
   ]
  },
  {
   "cell_type": "markdown",
   "metadata": {},
   "source": [
    "<h1> DP-life-cycle "
   ]
  },
  {
   "cell_type": "markdown",
   "metadata": {},
   "source": [
    "# 3 Solution"
   ]
  },
  {
   "cell_type": "markdown",
   "metadata": {},
   "source": [
    "### See how input input data is interpolated"
   ]
  },
  {
   "cell_type": "code",
   "execution_count": null,
   "metadata": {},
   "outputs": [],
   "source": [
    "# Setup\n",
    "model_data = gp_model() \n",
    "# Solve the model\n",
    "model_data.solve_model()\n",
    "# Simulate the model\n",
    "sim_data = Simulator(model_data.par, model_data.sol).main()\n",
    "\n",
    "# Plot the simulated data\n",
    "fig = pg.PlotFigure(figsize=(8,5),fontname=None)\n",
    "fig.add_plot(x=list(model_data.income_data.keys()),y=list(model_data.income_data.values()),marker='o',color='black',label='BLS data points',xlabel=f\"$t$ (age)\",ylabel=f\"$Y_t$\")\n",
    "fig.add_plot(x=list(model_data.consumption_data.keys()),y=list(model_data.consumption_data.values()),marker='o',color='red',label='BLS data points')\n",
    "fig.add_plot(x=model_data.grid_age,y=model_data.Ybar,linestyle='-',label='Interpolated income')\n",
    "fig.add_legend()\n",
    "fig.set_number_format('y','{x:,.0f}')\n",
    "# fig.save_figure(f'{local_path}/output/income_data.png')\n",
    "#fig.show()"
   ]
  },
  {
   "cell_type": "markdown",
   "metadata": {},
   "source": [
    "## Calibration of parameters"
   ]
  },
  {
   "cell_type": "markdown",
   "metadata": {},
   "source": [
    "### Figure 1: Income proces, Gt"
   ]
  },
  {
   "cell_type": "code",
   "execution_count": null,
   "metadata": {},
   "outputs": [],
   "source": [
    "fig = pg.PlotFigure(figsize=(8,5),fontname='Times New Roman')\n",
    "fig.add_plot(model_data.grid_age[:-1],model_data.par.G, label=f\"Income shifter\", linestyle='-',axis='y1')\n",
    "fig.set_xlabel(f\"$t$ (age)\")\n",
    "fig.add_legend()\n",
    "fig.add_gridlines(axis='y')\n",
    "fig.save_figure(f'{local_path}/output/income_shifter.png')\n",
    "fig.show()"
   ]
  },
  {
   "cell_type": "markdown",
   "metadata": {},
   "source": [
    "## Results"
   ]
  },
  {
   "cell_type": "markdown",
   "metadata": {},
   "source": [
    "### Solution to the model"
   ]
  },
  {
   "cell_type": "code",
   "execution_count": null,
   "metadata": {},
   "outputs": [],
   "source": [
    "def solve_model(par_dict):\n",
    "    model = gp_model(**par_dict)\n",
    "    model.solve_model()\n",
    "    return model\n",
    "\n",
    "model_init_sol = solve_model({'share':1})\n"
   ]
  },
  {
   "cell_type": "markdown",
   "metadata": {},
   "source": [
    "### Figure 2: Shows the valuefunction for different discount factor. Middle panel shows the solution for the baseline calibration"
   ]
  },
  {
   "cell_type": "code",
   "execution_count": null,
   "metadata": {},
   "outputs": [],
   "source": [
    "consumer = 0\n",
    "rhos = [{'beta':0.94},{'beta':0.96},{'beta':0.98}]\n",
    "fig = pg.PlotFigure(figsize=(16,5),fontname='Arial',rows=1,cols=len(rhos))\n",
    "for i, par in enumerate(rhos):\n",
    "    model = solve_model(par)\n",
    "    # Print consumption function\n",
    "    fig.change_ax(i)\n",
    "    for t in range(model.par.Tr_N-1,model.par.t0_N-1,-5):\n",
    "        criteria = np.where(model.sol.x[:,t,consumer] <= 3, True, False)\n",
    "        fig.add_plot(model.sol.x[criteria,t,consumer],model.sol.c[criteria,t,consumer], label=f\"t={25+t}\", linestyle='-')\n",
    "    if i == 0: fig.set_ylabel(f\"$c_t$\"); fig.add_legend();\n",
    "    fig.set_title(f\"$\\\\beta={par['beta']}$\")\n",
    "    fig.set_xlabel(\"$\\hat{x}_t$\")\n",
    "    fig.add_gridlines(axis='both')\n",
    "\n",
    "# fig.save_figure(f'{local_path}/output/egm_consumption.png')\n",
    "fig.show()"
   ]
  },
  {
   "cell_type": "markdown",
   "metadata": {},
   "source": [
    "## Simulation "
   ]
  },
  {
   "cell_type": "markdown",
   "metadata": {},
   "source": [
    "### Figure 3: Income and consumption path. Average consumption and income are the averages of all the random draws."
   ]
  },
  {
   "cell_type": "code",
   "execution_count": null,
   "metadata": {},
   "outputs": [],
   "source": [
    "# s\n",
    "sim = Simulator(model_init_sol.par, model_init_sol.sol).main()\n",
    "\n",
    "obs_age = list(model_init_sol.income_data.keys())[:-1]\n",
    "obs_income = list(model_init_sol.income_data.values())[:-1]\n",
    "obs_consump = list(model_init_sol.consumption_data.values())[:-1]\n",
    "# Plot simulation of the solution\n",
    "fig = pg.PlotFigure(figsize=(8,5),fontname='Arial')\n",
    "x = range(model_init_sol.par.t0,model_init_sol.par.Tr)\n",
    "fig.add_plot(x,sim.C_avg, label=f\"Average Consumption\", linestyle='-',axis='y1')\n",
    "fig.add_plot(x,sim.Y_avg, label=f\"Average Income\", linestyle='-',axis='y1')\n",
    "fig.add_plot(obs_age,obs_consump,label='Observed consumption', marker='v',axis='y1')\n",
    "fig.add_plot(obs_age,obs_income,label='Observed income', marker='v',axis='y1')\n",
    "fig.set_ylabel(f\"$C_t$, $Y_t$   in USD\")\n",
    "fig.set_xlabel(f\"$t$\")\n",
    "fig.set_number_format('y','{x:,.0f}')\n",
    "fig.add_gridlines(axis='y')\n",
    "fig.add_legend()\n",
    "# fig.save_figure(f'{local_path}/output/simulation_of_solution.png')\n",
    "fig.show()"
   ]
  },
  {
   "cell_type": "markdown",
   "metadata": {},
   "source": [
    "### shift in incomst motive"
   ]
  },
  {
   "cell_type": "markdown",
   "metadata": {},
   "source": [
    "##### Decompose savings "
   ]
  },
  {
   "cell_type": "code",
   "execution_count": null,
   "metadata": {},
   "outputs": [],
   "source": [
    "model_lc = gp_model(**{'sigma_eta': 0.0, 'sigma_mu':0.0,'pi':0,'xmin':-10.0})\n",
    "\n",
    "# retirement rule\n",
    "model_lc.main_setup()\n",
    "\n",
    "# Solve the Life-cycle model\n",
    "model_lc.solve_model()\n",
    "\n",
    "# Simulate the Life-cycle model\n",
    "sim_lc = Simulator(model_lc.par, model_lc.sol).main()"
   ]
  },
  {
   "cell_type": "code",
   "execution_count": null,
   "metadata": {},
   "outputs": [],
   "source": [
    "# Decomposition\n",
    "consumer = 0\n",
    "S_lc = np.mean(sim_lc.S[1:,:,consumer],axis=1)\n",
    "W_lc = np.mean((sim_lc.P*sim_lc.a)[1:,:,consumer], axis=1)\n",
    "S = np.mean(sim.S[1:,:,consumer],axis=1)\n",
    "W = np.mean((sim.P*sim.a)[1:,:,consumer], axis=1)\n",
    "S_b  = S - S_lc \n",
    "W_b = W - W_lc"
   ]
  },
  {
   "cell_type": "markdown",
   "metadata": {},
   "source": [
    "### Figure 4: Left panel shows the savings decomposition: ”Total savings” refers to the savings at age t for the baseline model, ”Savings lifecycle” refers to the savings at age t for the life-cycle model, ”Savings bufferstock” is the difference between the two. The right panel shows the wealth in the same three situations 12\n"
   ]
  },
  {
   "cell_type": "code",
   "execution_count": null,
   "metadata": {},
   "outputs": [],
   "source": [
    "# Print consumption function\n",
    "fig = pg.PlotFigure(figsize=(16,6),fontname='Arial',rows=1,cols=2)\n",
    "x = range(0+model_init_sol.par.t0,len(S)+model_init_sol.par.t0)\n",
    "fig.add_plot(x,S, label=f\"Total\", linestyle='-',axis='y1')\n",
    "fig.add_plot(x,S_b, label=f\"Bufferstock\", linestyle='-',axis='y1')\n",
    "fig.add_plot(x,S_lc, label=f\"Lifecycle\", linestyle='-',axis='y1')\n",
    "fig.set_number_format('y','{x:,.0f}')\n",
    "fig.set_ylabel(f\"$Savings$\")\n",
    "fig.set_xlabel(f\"$t$\")\n",
    "fig.add_legend()\n",
    "fig.change_ax(1)\n",
    "fig.add_plot(x,W, label=f\"Total wealth\", linestyle='-',axis='y1')\n",
    "fig.add_plot(x,W_b, label=f\"Wealth bufferstock\", linestyle='-',axis='y1')\n",
    "fig.add_plot(x,W_lc, label=f\"Wealth lifecycle\", linestyle='-',axis='y1')\n",
    "fig.set_number_format('y','{x:,.0f}')\n",
    "fig.set_ylabel(f\"$Wealth$\")\n",
    "fig.set_xlabel(f\"$t$\")\n",
    "# fig.save_figure(f'{local_path}/output/savings_decomposition.png')\n",
    "fig.show()\n"
   ]
  },
  {
   "cell_type": "markdown",
   "metadata": {},
   "source": [
    "# 4 Estimation"
   ]
  },
  {
   "cell_type": "markdown",
   "metadata": {},
   "source": [
    "### Estimation based on random data"
   ]
  },
  {
   "cell_type": "markdown",
   "metadata": {},
   "source": [
    "#### Data generation"
   ]
  },
  {
   "cell_type": "code",
   "execution_count": null,
   "metadata": {},
   "outputs": [],
   "source": [
    "# Setup params\n",
    "beta = 0.95\n",
    "rho = 0.45\n",
    "model_dgp = gp_model(**{'beta':beta,'rho':rho})\n",
    "\n",
    "# Solve the model\n",
    "model_dgp.solve_model()\n",
    "\n",
    "dgp_par = [model_dgp.par.beta, model_dgp.par.rho]\n",
    "# \n",
    "sim_dgp = Simulator(model_dgp.par, model_dgp.sol).main()\n",
    "input_data = np.log(sim_dgp.C_avg)\n"
   ]
  },
  {
   "cell_type": "code",
   "execution_count": null,
   "metadata": {},
   "outputs": [],
   "source": [
    "weight_mat_inv =  np.eye(input_data.size)   # The identity matrix and I^-1=I #np.diag(sim_dgp.C_var)\n",
    "est = SMD(model=model_init_sol,simulator=Simulator, mom_data=input_data)"
   ]
  },
  {
   "cell_type": "markdown",
   "metadata": {},
   "source": [
    "#### grid search - and plot the objective function for different values"
   ]
  },
  {
   "cell_type": "code",
   "execution_count": null,
   "metadata": {},
   "outputs": [],
   "source": [
    "est.beta_grid = np.arange(0.9,0.96,0.01)\n",
    "est.rho_grid = np.arange(0.45,0.5,0.01)\n",
    "est.estimate(theta0=[0.9,0.4],est_par=['beta','rho'],W=weight_mat_inv, grid=True)"
   ]
  },
  {
   "cell_type": "markdown",
   "metadata": {},
   "source": [
    "#### estimation"
   ]
  },
  {
   "cell_type": "code",
   "execution_count": null,
   "metadata": {},
   "outputs": [],
   "source": [
    "est.estimate(theta0=[0.9,0.4],est_par=['beta','rho'],bounds=None,W=weight_mat_inv, grid=False)"
   ]
  },
  {
   "cell_type": "markdown",
   "metadata": {},
   "source": [
    "##### check of the models ability to replicated resolves"
   ]
  },
  {
   "cell_type": "code",
   "execution_count": null,
   "metadata": {},
   "outputs": [],
   "source": [
    "print(f'estimated values using grid method {np.around(est.est,4)} and true parameters {dgp_par}, with objective function value {est.est_out.fun:.2f}')"
   ]
  },
  {
   "cell_type": "code",
   "execution_count": null,
   "metadata": {},
   "outputs": [],
   "source": [
    "# Obtain the variance-covariance matrix\n",
    "var_cov_matrix = est.estimate_variance_covariance_matrix(est.est, ['beta','rho'], W=weight_mat_inv)\n",
    "print(var_cov_matrix)"
   ]
  },
  {
   "cell_type": "markdown",
   "metadata": {},
   "source": [
    "## Estimation results"
   ]
  },
  {
   "cell_type": "markdown",
   "metadata": {},
   "source": [
    "### Estimation using data from BLS\n",
    "For data look at the very top"
   ]
  },
  {
   "cell_type": "code",
   "execution_count": null,
   "metadata": {},
   "outputs": [],
   "source": [
    "# Setup\n",
    "model_real = gp_model()\n",
    "\n",
    "# input the data\n",
    "real_data = model_real.Cbar[:-1] # Cbar has one more element than the grid_age"
   ]
  },
  {
   "cell_type": "code",
   "execution_count": null,
   "metadata": {},
   "outputs": [],
   "source": [
    "weight_mat_inv = np.eye(real_data.size)   # The identity matrix and I^-1=I\n",
    "est_real = SMD(model=model_real,simulator=Simulator, mom_data=real_data)\n",
    "est_real.age_groups = False"
   ]
  },
  {
   "cell_type": "markdown",
   "metadata": {},
   "source": [
    "#### Estimation"
   ]
  },
  {
   "cell_type": "code",
   "execution_count": null,
   "metadata": {},
   "outputs": [],
   "source": [
    "est_real.estimate(theta0=[0.9,0.4],est_par=['beta','rho'],bounds=None,W=weight_mat_inv,grid=False)"
   ]
  },
  {
   "cell_type": "markdown",
   "metadata": {},
   "source": [
    "#### Estimated Discountfactor and Risk-aversion parameter $\\left[\\beta, \\rho\\right]$ based on BLS data "
   ]
  },
  {
   "cell_type": "markdown",
   "metadata": {},
   "source": [
    "#### Table 2: Parameter estimates of baseline"
   ]
  },
  {
   "cell_type": "code",
   "execution_count": null,
   "metadata": {},
   "outputs": [],
   "source": [
    "print(est_real.est_out.success)\n",
    "print(f'estimated values {est_real.est} with objective function value {est_real.est_out.fun}')"
   ]
  },
  {
   "cell_type": "markdown",
   "metadata": {},
   "source": [
    "### Figure 5: The figure shows interpolated consumption values for the simulated model plotted against the consumption values for the actual data. The figure also plots the consumption values against the data for income"
   ]
  },
  {
   "cell_type": "code",
   "execution_count": null,
   "metadata": {},
   "outputs": [],
   "source": [
    "# plot the interpolated values\n",
    "fig = pg.PlotFigure(figsize=(8,5),fontname='Arial')\n",
    "fig.add_plot(model_real.grid_age[:-1], np.exp(model_real.Cbar[:-1]), label=f\"Data\", linestyle='-')\n",
    "fig.add_plot(model_real.grid_age[:-1], (sim_fit.C_avg), label=f\"Fitted values\", linestyle='-')\n",
    "fig.add_plot(model_real.grid_age[:-1], (sim_fit.Y_avg), label=f\"Income\", linestyle='-')\n",
    "fig.set_ylabel(f\"$Consumption$\")\n",
    "fig.set_xlabel(f\"$Age$\")\n",
    "fig.add_gridlines(axis='y')\n",
    "fig.set_number_format('y','{x:,.0f}')\n",
    "fig.add_legend()\n",
    "# fig.save_figure(f'{local_path}/output/simulated_method_plot.png')\n",
    "fig.show()"
   ]
  },
  {
   "cell_type": "markdown",
   "metadata": {},
   "source": [
    "## Sensitivity of estimates"
   ]
  },
  {
   "cell_type": "markdown",
   "metadata": {},
   "source": [
    "### Table 3: Sensitivity of variable in column 1 to changes in variable in header"
   ]
  },
  {
   "cell_type": "code",
   "execution_count": null,
   "metadata": {},
   "outputs": [],
   "source": [
    "phi = ['r','gamma1','pi','sigma_eta','sigma_mu']\n",
    "theta = ['beta','rho']\n",
    "sens_mes = est_real.sensitivity(theta=theta, est_par=est_real.est, W=weight_mat_inv, phi_st=phi, step=1.0e-10)\n",
    "for i, est_par in enumerate(theta):\n",
    "    for j, cal_par in enumerate(phi):\n",
    "        print(f\"Sensitivity of {est_par} to {cal_par} is {sens_mes[i,j]:.3f}\")"
   ]
  },
  {
   "cell_type": "code",
   "execution_count": null,
   "metadata": {},
   "outputs": [],
   "source": [
    "# Obtain the optimal parameters\n",
    "rho_opt = est_real.est[1]\n",
    "beta_opt = est_real.est[0]\n",
    "print(f'Optimal beta: {beta_opt}, Optimal rho: {rho_opt}')\n",
    "# setup the model with the optimal parameters\n",
    "model_fit = gp_model(**{'beta':beta_opt,'rho':rho_opt})\n",
    "# solve model\n",
    "model_fit.solve_model()\n",
    "\n",
    "# \n",
    "sim_fit = Simulator(model_fit.par, model_fit.sol)\n",
    "sim_fit = sim_fit.main()"
   ]
  },
  {
   "cell_type": "markdown",
   "metadata": {},
   "source": [
    "# 5 Extension\n"
   ]
  },
  {
   "cell_type": "code",
   "execution_count": null,
   "metadata": {},
   "outputs": [],
   "source": [
    "# Setup params\n",
    "type1_beta = 0.96 # high beta type -- C1\n",
    "type2_beta = 0.9  # low  beta type -- C2\n",
    "share = 0.4 # share of type 1\n",
    "rho = 0.45 # risk aversion parameter\n",
    "dgp_par_ext = [type1_beta,type2_beta,rho,share]\n",
    "\n",
    "model_types = gp_model(**{'beta':type1_beta,'beta2':type2_beta,'share':share,'rho':rho,})\n",
    "# Solve the model\n",
    "model_types.solve_model()\n",
    "# Simulate the model\n",
    "sim_types = Simulator(model_types.par, model_types.sol).main()"
   ]
  },
  {
   "cell_type": "code",
   "execution_count": null,
   "metadata": {},
   "outputs": [],
   "source": [
    "# plot consumption\n",
    "fig = pg.PlotFigure(figsize=(8,5),fontname='Arial')\n",
    "x = range(model_types.par.t0,model_types.par.Tr)\n",
    "fig.add_plot(x,sim_types.Y_avg, label=f\"Income\", linestyle='-',axis='y1')\n",
    "fig.add_plot(x,sim_types.C_avg, label=f\"Aggregate\", linestyle='-',axis='y1')\n",
    "fig.add_plot(x,sim_types.C_avg_type1, label=f\"Type I\", linestyle='-',axis='y1')\n",
    "fig.add_plot(x,sim_types.C_avg_type2, label=f\"Type II\", linestyle='-',axis='y1')\n",
    "fig.add_gridlines(axis='y')\n",
    "fig.set_ylabel(f\"$C_t$\")\n",
    "fig.set_xlabel(f\"$t$\")\n",
    "fig.set_title(f'Consumption over life-cycle for different types')\n",
    "fig.add_legend()\n",
    "fig.show()\n"
   ]
  },
  {
   "cell_type": "code",
   "execution_count": null,
   "metadata": {},
   "outputs": [],
   "source": [
    "weight_mat_inv = np.eye(sim_types.C_avg.shape[0])   # The identity matrix and I^-1=I\n",
    "est_ext = SMD(model=model_types,simulator=Simulator, mom_data=np.log(sim_types.C_avg))"
   ]
  },
  {
   "cell_type": "code",
   "execution_count": null,
   "metadata": {},
   "outputs": [],
   "source": [
    "constraint = lambda x: x[0] - x[1]\n",
    "est_ext.estimate(theta0=[0.91,0.9,0.4,0.2],est_par=['beta','beta2','rho','share'],W=weight_mat_inv,bounds=[(0.01,0.99),(0.01,0.99),(0,10),(0,1)],constraint=constraint, grid=False)"
   ]
  },
  {
   "cell_type": "code",
   "execution_count": null,
   "metadata": {},
   "outputs": [],
   "source": [
    "if est_ext.est_out.success:\n",
    "    print(f'estimated values using scipy optimizer {np.around(est_ext.est,4)}, while true parameters are {dgp_par_ext}, with objective function value {est_ext.est_out.fun:.2f}')\n",
    "else:\n",
    "    print(f'optimization failed')"
   ]
  },
  {
   "cell_type": "code",
   "execution_count": null,
   "metadata": {},
   "outputs": [],
   "source": [
    "# simulate the model with the estimated parameters\n",
    "model_fit_ext = gp_model(**{'beta':est_ext.est[0],'beta2':est_ext.est[1],'rho':est_ext.est[2],'share':est_ext.est[3]})\n",
    "model_fit_ext.solve_model()\n",
    "sim_fit_ext = Simulator(model_fit_ext.par, model_fit_ext.sol).main()\n",
    "\n",
    "# plot the simulated values\n",
    "fig = pg.PlotFigure(figsize=(8,5),fontname='Arial')\n",
    "x = range(model_types.par.t0,model_types.par.Tr)\n",
    "fig.add_plot(x,sim_types.C_avg, label=f\"Agg (DGP)\", linestyle='-',color='black',axis='y1')\n",
    "fig.add_plot(x,sim_fit_ext.C_avg, label=f\"Agg (Estimated)\", linestyle='--',color='black',axis='y1')\n",
    "\n",
    "fig.add_plot(x,sim_types.C_avg_type1, label=f\"Type I\", linestyle='-',color='grey',axis='y1')\n",
    "fig.add_plot(x,sim_fit_ext.C_avg_type1, linestyle='--',color='grey',axis='y1')\n",
    "\n",
    "fig.add_plot(x,sim_types.C_avg_type2, label=f\"Type II\", linestyle='-',color='red',axis='y1')\n",
    "fig.add_plot(x,sim_fit_ext.C_avg_type2, linestyle='--',color='red',axis='y1')\n",
    "\n",
    "\n",
    "fig.add_gridlines(axis='y')\n",
    "fig.set_ylabel(f\"$C_t$\")\n",
    "fig.set_xlabel(f\"$t$\")\n",
    "fig.set_title(f'Consumption over life-cycle for different types')\n",
    "fig.add_legend()\n",
    "#fig.show()\n"
   ]
  },
  {
   "cell_type": "markdown",
   "metadata": {},
   "source": [
    "## Estimation based on extension"
   ]
  },
  {
   "cell_type": "markdown",
   "metadata": {},
   "source": [
    "#### Estimated discount factors based on observed heterogeneity "
   ]
  },
  {
   "cell_type": "markdown",
   "metadata": {},
   "source": [
    "### Table 2: Parameter estimates of extended model."
   ]
  },
  {
   "cell_type": "code",
   "execution_count": null,
   "metadata": {},
   "outputs": [],
   "source": [
    "est_ext = SMD(model=model_types,simulator=Simulator, mom_data=real_data)\n",
    "constraint = lambda x: x[0] - x[1]\n",
    "est_ext.estimate(theta0=[0.975,0.925,0.4,0.5],est_par=['beta','beta2','rho','share'],W=weight_mat_inv,bounds=[(0.01,0.99),(0.01,0.99),(0,10),(0,1)],constraint=constraint, grid=False)"
   ]
  },
  {
   "cell_type": "code",
   "execution_count": null,
   "metadata": {},
   "outputs": [],
   "source": [
    "if est_ext.est_out.success:\n",
    "    print(f'estimated values using scipy optimizer {np.around(est_ext.est,4)}')\n",
    "else:\n",
    "    print(f'optimization failed')"
   ]
  },
  {
   "cell_type": "markdown",
   "metadata": {},
   "source": [
    "### Figure 5: The figure shows interpolated consumption values for the simulated model plotted against the consumption values for the actual data. The figure also plots the consumption values against the data for income"
   ]
  },
  {
   "cell_type": "code",
   "execution_count": null,
   "metadata": {},
   "outputs": [],
   "source": [
    "# simulate the model with the estimated parameters\n",
    "model_fit_ext = gp_model(**{'beta':est_ext.est[0],'beta2':est_ext.est[1],'rho':est_ext.est[2],'share':est_ext.est[3]})\n",
    "model_fit_ext.solve_model()\n",
    "sim_fit_ext = Simulator(model_fit_ext.par, model_fit_ext.sol).main()\n",
    "\n",
    "# plot the simulated values\n",
    "fig = pg.PlotFigure(figsize=(8,5),fontname='Arial')\n",
    "x = range(model_types.par.t0,model_types.par.Tr)\n",
    "fig.add_plot(x,model_data.Ybar[:-1], label=f\"Income Input\", linestyle='-',axis='y1')\n",
    "fig.add_plot(x,np.exp(real_data), label=f\"Consumption input\", linestyle='-',axis='y1')\n",
    "fig.add_plot(x,sim_fit.C_avg, label=f\"Baseline\", linestyle='--',color='lightgrey',axis='y1')\n",
    "fig.add_plot(x,sim_fit_ext.C_avg, label=f\"Extented\", linestyle='--',color='grey',axis='y1')\n",
    "fig.add_gridlines(axis='y')\n",
    "fig.set_number_format('y','{x:,.0f}')\n",
    "fig.set_ylabel(\"$C_t^{agg}$\")\n",
    "fig.set_xlabel(\"$t$\")\n",
    "fig.add_legend()\n",
    "fig.save_figure(f'{local_path}/output/extended_model_fit.png')\n",
    "fig.show()\n"
   ]
  }
 ],
 "metadata": {
  "kernelspec": {
   "display_name": "base",
   "language": "python",
   "name": "python3"
  },
  "language_info": {
   "codemirror_mode": {
    "name": "ipython",
    "version": 3
   },
   "file_extension": ".py",
   "mimetype": "text/x-python",
   "name": "python",
   "nbconvert_exporter": "python",
   "pygments_lexer": "ipython3",
   "version": "3.9.16"
  },
  "vscode": {
   "interpreter": {
    "hash": "ad2bdc8ecc057115af97d19610ffacc2b4e99fae6737bb82f5d7fb13d2f2c186"
   }
  }
 },
 "nbformat": 4,
 "nbformat_minor": 4
}
