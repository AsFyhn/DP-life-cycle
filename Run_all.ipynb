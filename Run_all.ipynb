{
 "cells": [
  {
   "cell_type": "code",
<<<<<<< HEAD
   "execution_count": 90,
=======
   "execution_count": null,
>>>>>>> da99df64dd6634883f6568a3203a46396d0735b9
   "metadata": {},
   "outputs": [],
   "source": [
    "# magics: ensures that any changes to the modules loaded below will be re-loaded automatically\n",
    "%load_ext autoreload\n",
    "%autoreload 2\n",
    "\n",
    "import os \n",
    "import sys\n",
    "local_path = os.path.abspath('')\n",
    "sys.path.append(local_path)\n",
    "import plotly.graph_objects as go\n",
    "from plotly.subplots import make_subplots"
   ]
  },
  {
   "cell_type": "code",
<<<<<<< HEAD
   "execution_count": 91,
=======
   "execution_count": null,
>>>>>>> da99df64dd6634883f6568a3203a46396d0735b9
   "metadata": {},
   "outputs": [],
   "source": [
    "from functions import plotgenerator as pg\n",
    "from model import *\n",
    "from simulations import Simulator\n",
    "from estimation import SMD"
   ]
  },
  {
   "cell_type": "markdown",
   "metadata": {},
   "source": [
    "<h1> DP-life-cycle "
   ]
  },
  {
   "cell_type": "markdown",
   "metadata": {},
   "source": [
    "# 3 Solution"
   ]
  },
  {
   "cell_type": "markdown",
   "metadata": {},
   "source": [
    "### See how input input data is interpolated"
   ]
  },
  {
   "cell_type": "code",
<<<<<<< HEAD
   "execution_count": 92,
   "metadata": {},
   "outputs": [
    {
     "ename": "OSError",
     "evalue": "'seaborn-white' is not a valid package style, path of style file, URL of style file, or library style name (library styles are listed in `style.available`)",
     "output_type": "error",
     "traceback": [
      "\u001b[1;31m---------------------------------------------------------------------------\u001b[0m",
      "\u001b[1;31mFileNotFoundError\u001b[0m                         Traceback (most recent call last)",
      "File \u001b[1;32mc:\\Users\\marcu\\anaconda3\\Lib\\site-packages\\matplotlib\\style\\core.py:137\u001b[0m, in \u001b[0;36muse\u001b[1;34m(style)\u001b[0m\n\u001b[0;32m    136\u001b[0m \u001b[38;5;28;01mtry\u001b[39;00m:\n\u001b[1;32m--> 137\u001b[0m     style \u001b[38;5;241m=\u001b[39m _rc_params_in_file(style)\n\u001b[0;32m    138\u001b[0m \u001b[38;5;28;01mexcept\u001b[39;00m \u001b[38;5;167;01mOSError\u001b[39;00m \u001b[38;5;28;01mas\u001b[39;00m err:\n",
      "File \u001b[1;32mc:\\Users\\marcu\\anaconda3\\Lib\\site-packages\\matplotlib\\__init__.py:883\u001b[0m, in \u001b[0;36m_rc_params_in_file\u001b[1;34m(fname, transform, fail_on_error)\u001b[0m\n\u001b[0;32m    882\u001b[0m rc_temp \u001b[38;5;241m=\u001b[39m {}\n\u001b[1;32m--> 883\u001b[0m \u001b[38;5;28;01mwith\u001b[39;00m _open_file_or_url(fname) \u001b[38;5;28;01mas\u001b[39;00m fd:\n\u001b[0;32m    884\u001b[0m     \u001b[38;5;28;01mtry\u001b[39;00m:\n",
      "File \u001b[1;32mc:\\Users\\marcu\\anaconda3\\Lib\\contextlib.py:137\u001b[0m, in \u001b[0;36m_GeneratorContextManager.__enter__\u001b[1;34m(self)\u001b[0m\n\u001b[0;32m    136\u001b[0m \u001b[38;5;28;01mtry\u001b[39;00m:\n\u001b[1;32m--> 137\u001b[0m     \u001b[38;5;28;01mreturn\u001b[39;00m \u001b[38;5;28mnext\u001b[39m(\u001b[38;5;28mself\u001b[39m\u001b[38;5;241m.\u001b[39mgen)\n\u001b[0;32m    138\u001b[0m \u001b[38;5;28;01mexcept\u001b[39;00m \u001b[38;5;167;01mStopIteration\u001b[39;00m:\n",
      "File \u001b[1;32mc:\\Users\\marcu\\anaconda3\\Lib\\site-packages\\matplotlib\\__init__.py:860\u001b[0m, in \u001b[0;36m_open_file_or_url\u001b[1;34m(fname)\u001b[0m\n\u001b[0;32m    859\u001b[0m fname \u001b[38;5;241m=\u001b[39m os\u001b[38;5;241m.\u001b[39mpath\u001b[38;5;241m.\u001b[39mexpanduser(fname)\n\u001b[1;32m--> 860\u001b[0m \u001b[38;5;28;01mwith\u001b[39;00m \u001b[38;5;28mopen\u001b[39m(fname, encoding\u001b[38;5;241m=\u001b[39m\u001b[38;5;124m'\u001b[39m\u001b[38;5;124mutf-8\u001b[39m\u001b[38;5;124m'\u001b[39m) \u001b[38;5;28;01mas\u001b[39;00m f:\n\u001b[0;32m    861\u001b[0m     \u001b[38;5;28;01myield\u001b[39;00m f\n",
      "\u001b[1;31mFileNotFoundError\u001b[0m: [Errno 2] No such file or directory: 'seaborn-white'",
      "\nThe above exception was the direct cause of the following exception:\n",
      "\u001b[1;31mOSError\u001b[0m                                   Traceback (most recent call last)",
      "Cell \u001b[1;32mIn[92], line 9\u001b[0m\n\u001b[0;32m      6\u001b[0m sim_data \u001b[38;5;241m=\u001b[39m Simulator(model_data\u001b[38;5;241m.\u001b[39mpar, model_data\u001b[38;5;241m.\u001b[39msol)\u001b[38;5;241m.\u001b[39mmain()\n\u001b[0;32m      8\u001b[0m \u001b[38;5;66;03m# Plot the simulated data\u001b[39;00m\n\u001b[1;32m----> 9\u001b[0m fig \u001b[38;5;241m=\u001b[39m pg\u001b[38;5;241m.\u001b[39mPlotFigure(figsize\u001b[38;5;241m=\u001b[39m(\u001b[38;5;241m8\u001b[39m,\u001b[38;5;241m5\u001b[39m),fontname\u001b[38;5;241m=\u001b[39m\u001b[38;5;28;01mNone\u001b[39;00m)\n\u001b[0;32m     10\u001b[0m fig\u001b[38;5;241m.\u001b[39madd_plot(x\u001b[38;5;241m=\u001b[39m\u001b[38;5;28mlist\u001b[39m(model_data\u001b[38;5;241m.\u001b[39mincome_data\u001b[38;5;241m.\u001b[39mkeys()),y\u001b[38;5;241m=\u001b[39m\u001b[38;5;28mlist\u001b[39m(model_data\u001b[38;5;241m.\u001b[39mincome_data\u001b[38;5;241m.\u001b[39mvalues()),marker\u001b[38;5;241m=\u001b[39m\u001b[38;5;124m'\u001b[39m\u001b[38;5;124mo\u001b[39m\u001b[38;5;124m'\u001b[39m,color\u001b[38;5;241m=\u001b[39m\u001b[38;5;124m'\u001b[39m\u001b[38;5;124mblack\u001b[39m\u001b[38;5;124m'\u001b[39m,label\u001b[38;5;241m=\u001b[39m\u001b[38;5;124m'\u001b[39m\u001b[38;5;124mBLS data points\u001b[39m\u001b[38;5;124m'\u001b[39m,xlabel\u001b[38;5;241m=\u001b[39m\u001b[38;5;124mf\u001b[39m\u001b[38;5;124m\"\u001b[39m\u001b[38;5;124m$t$ (age)\u001b[39m\u001b[38;5;124m\"\u001b[39m,ylabel\u001b[38;5;241m=\u001b[39m\u001b[38;5;124mf\u001b[39m\u001b[38;5;124m\"\u001b[39m\u001b[38;5;124m$Y_t$\u001b[39m\u001b[38;5;124m\"\u001b[39m)\n\u001b[0;32m     11\u001b[0m fig\u001b[38;5;241m.\u001b[39madd_plot(x\u001b[38;5;241m=\u001b[39m\u001b[38;5;28mlist\u001b[39m(model_data\u001b[38;5;241m.\u001b[39mconsumption_data\u001b[38;5;241m.\u001b[39mkeys()),y\u001b[38;5;241m=\u001b[39m\u001b[38;5;28mlist\u001b[39m(model_data\u001b[38;5;241m.\u001b[39mconsumption_data\u001b[38;5;241m.\u001b[39mvalues()),marker\u001b[38;5;241m=\u001b[39m\u001b[38;5;124m'\u001b[39m\u001b[38;5;124mo\u001b[39m\u001b[38;5;124m'\u001b[39m,color\u001b[38;5;241m=\u001b[39m\u001b[38;5;124m'\u001b[39m\u001b[38;5;124mred\u001b[39m\u001b[38;5;124m'\u001b[39m,label\u001b[38;5;241m=\u001b[39m\u001b[38;5;124m'\u001b[39m\u001b[38;5;124mBLS data points\u001b[39m\u001b[38;5;124m'\u001b[39m)\n",
      "File \u001b[1;32mc:\\Users\\marcu\\Desktop\\Polit 8. semester\\dynamicProg\\examen project\\DP-life-cycle\\functions\\plotgenerator.py:19\u001b[0m, in \u001b[0;36mPlotFigure.__init__\u001b[1;34m(self, figsize, rows, cols, fontname, color_cycle)\u001b[0m\n\u001b[0;32m     17\u001b[0m     plt\u001b[38;5;241m.\u001b[39mstyle\u001b[38;5;241m.\u001b[39muse(\u001b[38;5;124m'\u001b[39m\u001b[38;5;124mbmh\u001b[39m\u001b[38;5;124m'\u001b[39m)\n\u001b[0;32m     18\u001b[0m     color_cycle \u001b[38;5;241m=\u001b[39m plt\u001b[38;5;241m.\u001b[39mrcParams[\u001b[38;5;124m'\u001b[39m\u001b[38;5;124maxes.prop_cycle\u001b[39m\u001b[38;5;124m'\u001b[39m]\u001b[38;5;241m.\u001b[39mby_key()[\u001b[38;5;124m'\u001b[39m\u001b[38;5;124mcolor\u001b[39m\u001b[38;5;124m'\u001b[39m]\n\u001b[1;32m---> 19\u001b[0m     plt\u001b[38;5;241m.\u001b[39mstyle\u001b[38;5;241m.\u001b[39muse(\u001b[38;5;124m'\u001b[39m\u001b[38;5;124mseaborn-white\u001b[39m\u001b[38;5;124m'\u001b[39m)\n\u001b[0;32m     21\u001b[0m \u001b[38;5;28;01mif\u001b[39;00m rows\u001b[38;5;241m*\u001b[39mcols\u001b[38;5;241m>\u001b[39m\u001b[38;5;241m1\u001b[39m:\n\u001b[0;32m     22\u001b[0m     \u001b[38;5;28;01mfor\u001b[39;00m i, ax \u001b[38;5;129;01min\u001b[39;00m \u001b[38;5;28menumerate\u001b[39m(\u001b[38;5;28mself\u001b[39m\u001b[38;5;241m.\u001b[39maxs):\n",
      "File \u001b[1;32mc:\\Users\\marcu\\anaconda3\\Lib\\site-packages\\matplotlib\\style\\core.py:139\u001b[0m, in \u001b[0;36muse\u001b[1;34m(style)\u001b[0m\n\u001b[0;32m    137\u001b[0m         style \u001b[38;5;241m=\u001b[39m _rc_params_in_file(style)\n\u001b[0;32m    138\u001b[0m     \u001b[38;5;28;01mexcept\u001b[39;00m \u001b[38;5;167;01mOSError\u001b[39;00m \u001b[38;5;28;01mas\u001b[39;00m err:\n\u001b[1;32m--> 139\u001b[0m         \u001b[38;5;28;01mraise\u001b[39;00m \u001b[38;5;167;01mOSError\u001b[39;00m(\n\u001b[0;32m    140\u001b[0m             \u001b[38;5;124mf\u001b[39m\u001b[38;5;124m\"\u001b[39m\u001b[38;5;132;01m{\u001b[39;00mstyle\u001b[38;5;132;01m!r}\u001b[39;00m\u001b[38;5;124m is not a valid package style, path of style \u001b[39m\u001b[38;5;124m\"\u001b[39m\n\u001b[0;32m    141\u001b[0m             \u001b[38;5;124mf\u001b[39m\u001b[38;5;124m\"\u001b[39m\u001b[38;5;124mfile, URL of style file, or library style name (library \u001b[39m\u001b[38;5;124m\"\u001b[39m\n\u001b[0;32m    142\u001b[0m             \u001b[38;5;124mf\u001b[39m\u001b[38;5;124m\"\u001b[39m\u001b[38;5;124mstyles are listed in `style.available`)\u001b[39m\u001b[38;5;124m\"\u001b[39m) \u001b[38;5;28;01mfrom\u001b[39;00m \u001b[38;5;21;01merr\u001b[39;00m\n\u001b[0;32m    143\u001b[0m filtered \u001b[38;5;241m=\u001b[39m {}\n\u001b[0;32m    144\u001b[0m \u001b[38;5;28;01mfor\u001b[39;00m k \u001b[38;5;129;01min\u001b[39;00m style:  \u001b[38;5;66;03m# don't trigger RcParams.__getitem__('backend')\u001b[39;00m\n",
      "\u001b[1;31mOSError\u001b[0m: 'seaborn-white' is not a valid package style, path of style file, URL of style file, or library style name (library styles are listed in `style.available`)"
     ]
    },
    {
     "data": {
      "image/png": "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",
      "text/plain": [
       "<Figure size 800x500 with 1 Axes>"
      ]
     },
     "metadata": {},
     "output_type": "display_data"
    }
   ],
=======
   "execution_count": null,
   "metadata": {},
   "outputs": [],
>>>>>>> da99df64dd6634883f6568a3203a46396d0735b9
   "source": [
    "# Setup\n",
    "model_data = gp_model() \n",
    "# Solve the model\n",
    "model_data.solve_model()\n",
    "# Simulate the model\n",
    "sim_data = Simulator(model_data.par, model_data.sol).main()\n",
    "\n",
    "# Plot the simulated data\n",
    "fig = pg.PlotFigure(figsize=(8,5),fontname=None)\n",
    "fig.add_plot(x=list(model_data.income_data.keys()),y=list(model_data.income_data.values()),marker='o',color='black',label='BLS data points',xlabel=f\"$t$ (age)\",ylabel=f\"$Y_t$\")\n",
    "fig.add_plot(x=list(model_data.consumption_data.keys()),y=list(model_data.consumption_data.values()),marker='o',color='red',label='BLS data points')\n",
    "fig.add_plot(x=model_data.grid_age,y=model_data.Ybar,linestyle='-',label='Interpolated income')\n",
    "fig.add_legend()\n",
    "fig.set_number_format('y','{x:,.0f}')\n",
    "# fig.save_figure(f'{local_path}/output/income_data.png')\n",
    "#fig.show()"
   ]
  },
  {
   "cell_type": "markdown",
   "metadata": {},
   "source": [
    "## Calibration of parameters"
   ]
  },
  {
   "cell_type": "markdown",
   "metadata": {},
   "source": [
    "### Figure 1: Income proces, Gt"
   ]
  },
  {
   "cell_type": "code",
   "execution_count": null,
   "metadata": {},
   "outputs": [],
   "source": [
    "fig = pg.PlotFigure(figsize=(8,5),fontname='Times New Roman')\n",
    "fig.add_plot(model_data.grid_age[:-1],model_data.par.G, label=f\"Income shifter\", linestyle='-',axis='y1')\n",
    "fig.set_xlabel(f\"$t$ (age)\")\n",
    "fig.add_legend()\n",
    "fig.add_gridlines(axis='y')\n",
    "fig.save_figure(f'{local_path}/output/income_shifter.png')\n",
    "fig.show()"
   ]
  },
  {
   "cell_type": "markdown",
   "metadata": {},
   "source": [
    "## Results"
   ]
  },
  {
   "cell_type": "markdown",
   "metadata": {},
   "source": [
    "### Solution to the model"
   ]
  },
  {
   "cell_type": "code",
   "execution_count": null,
   "metadata": {},
   "outputs": [],
   "source": [
    "def solve_model(par_dict):\n",
    "    model = gp_model(**par_dict)\n",
    "    model.solve_model()\n",
    "    return model\n",
    "\n",
    "model_init_sol = solve_model({'share':1})\n"
   ]
  },
  {
   "cell_type": "markdown",
   "metadata": {},
   "source": [
    "### Figure 2: Shows the valuefunction for different discount factor. Middle panel shows the solution for the baseline calibration"
   ]
  },
  {
   "cell_type": "code",
   "execution_count": null,
   "metadata": {},
   "outputs": [],
   "source": [
    "consumer = 0\n",
    "rhos = [{'beta':0.94},{'beta':0.96},{'beta':0.98}]\n",
    "fig = pg.PlotFigure(figsize=(16,5),fontname='Arial',rows=1,cols=len(rhos))\n",
    "for i, par in enumerate(rhos):\n",
    "    model = solve_model(par)\n",
    "    # Print consumption function\n",
    "    fig.change_ax(i)\n",
    "    for t in range(model.par.Tr_N-1,model.par.t0_N-1,-5):\n",
    "        criteria = np.where(model.sol.x[:,t,consumer] <= 3, True, False)\n",
    "        fig.add_plot(model.sol.x[criteria,t,consumer],model.sol.c[criteria,t,consumer], label=f\"t={25+t}\", linestyle='-')\n",
    "    if i == 0: fig.set_ylabel(f\"$c_t$\"); fig.add_legend();\n",
    "    fig.set_title(f\"$\\\\beta={par['beta']}$\")\n",
    "    fig.set_xlabel(\"$\\hat{x}_t$\")\n",
    "    fig.add_gridlines(axis='both')\n",
    "\n",
    "# fig.save_figure(f'{local_path}/output/egm_consumption.png')\n",
    "fig.show()"
   ]
  },
  {
   "cell_type": "markdown",
   "metadata": {},
   "source": [
    "## Simulation "
   ]
  },
  {
   "cell_type": "markdown",
   "metadata": {},
   "source": [
    "### Figure 3: Income and consumption path. Average consumption and income are the averages of all the random draws."
   ]
  },
  {
   "cell_type": "code",
   "execution_count": null,
   "metadata": {},
   "outputs": [],
   "source": [
    "# s\n",
    "sim = Simulator(model_init_sol.par, model_init_sol.sol).main()\n",
    "\n",
    "obs_age = list(model_init_sol.income_data.keys())[:-1]\n",
    "obs_income = list(model_init_sol.income_data.values())[:-1]\n",
    "obs_consump = list(model_init_sol.consumption_data.values())[:-1]\n",
    "# Plot simulation of the solution\n",
    "fig = pg.PlotFigure(figsize=(8,5),fontname='Arial')\n",
    "x = range(model_init_sol.par.t0,model_init_sol.par.Tr)\n",
    "fig.add_plot(x,sim.C_avg, label=f\"Average Consumption\", linestyle='-',axis='y1')\n",
    "fig.add_plot(x,sim.Y_avg, label=f\"Average Income\", linestyle='-',axis='y1')\n",
    "fig.add_plot(obs_age,obs_consump,label='Observed consumption', marker='v',axis='y1')\n",
    "fig.add_plot(obs_age,obs_income,label='Observed income', marker='v',axis='y1')\n",
    "fig.set_ylabel(f\"$C_t$, $Y_t$   in USD\")\n",
    "fig.set_xlabel(f\"$t$\")\n",
    "fig.set_number_format('y','{x:,.0f}')\n",
    "fig.add_gridlines(axis='y')\n",
    "fig.add_legend()\n",
    "# fig.save_figure(f'{local_path}/output/simulation_of_solution.png')\n",
    "fig.show()"
   ]
  },
  {
   "cell_type": "markdown",
   "metadata": {},
   "source": [
    "### shift in incomst motive"
   ]
  },
  {
   "cell_type": "markdown",
   "metadata": {},
   "source": [
    "##### Decompose savings "
   ]
  },
  {
   "cell_type": "code",
   "execution_count": null,
   "metadata": {},
   "outputs": [],
   "source": [
    "model_lc = gp_model(**{'sigma_eta': 0.0, 'sigma_mu':0.0,'pi':0,'xmin':-10.0})\n",
    "\n",
    "# retirement rule\n",
    "model_lc.main_setup()\n",
    "\n",
    "# Solve the Life-cycle model\n",
    "model_lc.solve_model()\n",
    "\n",
    "# Simulate the Life-cycle model\n",
    "sim_lc = Simulator(model_lc.par, model_lc.sol).main()"
   ]
  },
  {
   "cell_type": "code",
   "execution_count": null,
   "metadata": {},
   "outputs": [],
   "source": [
    "# Decomposition\n",
    "consumer = 0\n",
    "S_lc = np.mean(sim_lc.S[1:,:,consumer],axis=1)\n",
    "W_lc = np.mean((sim_lc.P*sim_lc.a)[1:,:,consumer], axis=1)\n",
    "S = np.mean(sim.S[1:,:,consumer],axis=1)\n",
    "W = np.mean((sim.P*sim.a)[1:,:,consumer], axis=1)\n",
    "S_b  = S - S_lc \n",
    "W_b = W - W_lc"
   ]
  },
  {
   "cell_type": "markdown",
   "metadata": {},
   "source": [
    "### Figure 4: Left panel shows the savings decomposition: ”Total savings” refers to the savings at age t for the baseline model, ”Savings lifecycle” refers to the savings at age t for the life-cycle model, ”Savings bufferstock” is the difference between the two. The right panel shows the wealth in the same three situations 12\n"
   ]
  },
  {
   "cell_type": "code",
   "execution_count": null,
   "metadata": {},
   "outputs": [],
   "source": [
    "# Print consumption function\n",
    "fig = pg.PlotFigure(figsize=(16,6),fontname='Arial',rows=1,cols=2)\n",
    "x = range(0+model_init_sol.par.t0,len(S)+model_init_sol.par.t0)\n",
    "fig.add_plot(x,S, label=f\"Total\", linestyle='-',axis='y1')\n",
    "fig.add_plot(x,S_b, label=f\"Bufferstock\", linestyle='-',axis='y1')\n",
    "fig.add_plot(x,S_lc, label=f\"Lifecycle\", linestyle='-',axis='y1')\n",
    "fig.set_number_format('y','{x:,.0f}')\n",
    "fig.set_ylabel(f\"$Savings$\")\n",
    "fig.set_xlabel(f\"$t$\")\n",
    "fig.add_legend()\n",
    "fig.change_ax(1)\n",
    "fig.add_plot(x,W, label=f\"Total wealth\", linestyle='-',axis='y1')\n",
    "fig.add_plot(x,W_b, label=f\"Wealth bufferstock\", linestyle='-',axis='y1')\n",
    "fig.add_plot(x,W_lc, label=f\"Wealth lifecycle\", linestyle='-',axis='y1')\n",
    "fig.set_number_format('y','{x:,.0f}')\n",
    "fig.set_ylabel(f\"$Wealth$\")\n",
    "fig.set_xlabel(f\"$t$\")\n",
    "# fig.save_figure(f'{local_path}/output/savings_decomposition.png')\n",
    "fig.show()\n"
   ]
  },
  {
   "cell_type": "markdown",
   "metadata": {},
   "source": [
    "# 4 Estimation"
   ]
  },
  {
   "cell_type": "markdown",
   "metadata": {},
   "source": [
    "### Estimation based on random data"
   ]
  },
  {
   "cell_type": "markdown",
   "metadata": {},
   "source": [
    "#### Data generation"
   ]
  },
  {
   "cell_type": "code",
   "execution_count": null,
   "metadata": {},
   "outputs": [],
   "source": [
    "# Setup params\n",
    "beta = 0.95\n",
    "rho = 0.45\n",
    "model_dgp = gp_model(**{'beta':beta,'rho':rho})\n",
    "\n",
    "# Solve the model\n",
    "model_dgp.solve_model()\n",
    "\n",
    "dgp_par = [model_dgp.par.beta, model_dgp.par.rho]\n",
    "# \n",
    "sim_dgp = Simulator(model_dgp.par, model_dgp.sol).main()\n",
    "input_data = np.log(sim_dgp.C_avg)\n"
   ]
  },
  {
   "cell_type": "code",
   "execution_count": null,
   "metadata": {},
   "outputs": [],
   "source": [
    "weight_mat_inv =  np.eye(input_data.size)   # The identity matrix and I^-1=I #np.diag(sim_dgp.C_var)\n",
    "est = SMD(model=model_init_sol,simulator=Simulator, mom_data=input_data)"
   ]
  },
  {
   "cell_type": "markdown",
   "metadata": {},
   "source": [
    "#### grid search - and plot the objective function for different values"
   ]
  },
  {
   "cell_type": "code",
   "execution_count": null,
   "metadata": {},
   "outputs": [],
   "source": [
    "est.beta_grid = np.arange(0.9,0.96,0.01)\n",
    "est.rho_grid = np.arange(0.45,0.5,0.01)\n",
    "est.estimate(theta0=[0.9,0.4],est_par=['beta','rho'],W=weight_mat_inv, grid=True)"
   ]
  },
  {
   "cell_type": "markdown",
   "metadata": {},
   "source": [
    "#### estimation"
   ]
  },
  {
   "cell_type": "code",
   "execution_count": null,
   "metadata": {},
   "outputs": [],
   "source": [
    "est.estimate(theta0=[0.9,0.4],est_par=['beta','rho'],bounds=None,W=weight_mat_inv, grid=False)"
   ]
  },
  {
   "cell_type": "markdown",
   "metadata": {},
   "source": [
    "##### check of the models ability to replicated resolves"
   ]
  },
  {
   "cell_type": "code",
   "execution_count": null,
   "metadata": {},
   "outputs": [],
   "source": [
    "print(f'estimated values using grid method {np.around(est.est,4)} and true parameters {dgp_par}, with objective function value {est.est_out.fun:.2f}')"
   ]
  },
  {
   "cell_type": "code",
   "execution_count": null,
   "metadata": {},
   "outputs": [],
   "source": [
    "# Obtain the variance-covariance matrix\n",
    "var_cov_matrix = est.estimate_variance_covariance_matrix(est.est, ['beta','rho'], W=weight_mat_inv)\n",
    "print(var_cov_matrix)"
   ]
  },
  {
   "cell_type": "markdown",
   "metadata": {},
   "source": [
    "## Estimation results"
   ]
  },
  {
   "cell_type": "markdown",
   "metadata": {},
   "source": [
    "### Estimation using data from BLS\n",
    "For data look at the very top"
   ]
  },
  {
   "cell_type": "code",
   "execution_count": null,
   "metadata": {},
   "outputs": [],
   "source": [
    "# Setup\n",
    "model_real = gp_model()\n",
    "\n",
    "# input the data\n",
    "real_data = model_real.Cbar[:-1] # Cbar has one more element than the grid_age"
   ]
  },
  {
   "cell_type": "code",
   "execution_count": null,
   "metadata": {},
   "outputs": [],
   "source": [
    "weight_mat_inv = np.eye(real_data.size)   # The identity matrix and I^-1=I\n",
    "est_real = SMD(model=model_real,simulator=Simulator, mom_data=real_data)\n",
    "est_real.age_groups = False"
   ]
  },
  {
   "cell_type": "markdown",
   "metadata": {},
   "source": [
    "#### Estimation"
   ]
  },
  {
   "cell_type": "code",
   "execution_count": null,
   "metadata": {},
   "outputs": [],
   "source": [
    "est_real.estimate(theta0=[0.9,0.4],est_par=['beta','rho'],bounds=None,W=weight_mat_inv,grid=False)"
   ]
  },
  {
   "cell_type": "markdown",
   "metadata": {},
   "source": [
    "#### Estimated Discountfactor and Risk-aversion parameter $\\left[\\beta, \\rho\\right]$ based on BLS data "
   ]
  },
  {
   "cell_type": "markdown",
   "metadata": {},
   "source": [
    "#### Table 2: Parameter estimates of baseline"
   ]
  },
  {
   "cell_type": "code",
   "execution_count": null,
   "metadata": {},
   "outputs": [],
   "source": [
    "print(est_real.est_out.success)\n",
    "print(f'estimated values {est_real.est} with objective function value {est_real.est_out.fun}')"
   ]
  },
  {
   "cell_type": "markdown",
   "metadata": {},
   "source": [
    "### Figure 5: The figure shows interpolated consumption values for the simulated model plotted against the consumption values for the actual data. The figure also plots the consumption values against the data for income"
   ]
  },
  {
   "cell_type": "code",
   "execution_count": null,
   "metadata": {},
   "outputs": [],
   "source": [
    "# plot the interpolated values\n",
    "fig = pg.PlotFigure(figsize=(8,5),fontname='Arial')\n",
    "fig.add_plot(model_real.grid_age[:-1], np.exp(model_real.Cbar[:-1]), label=f\"Data\", linestyle='-')\n",
    "fig.add_plot(model_real.grid_age[:-1], (sim_fit.C_avg), label=f\"Fitted values\", linestyle='-')\n",
    "fig.add_plot(model_real.grid_age[:-1], (sim_fit.Y_avg), label=f\"Income\", linestyle='-')\n",
    "fig.set_ylabel(f\"$Consumption$\")\n",
    "fig.set_xlabel(f\"$Age$\")\n",
    "fig.add_gridlines(axis='y')\n",
    "fig.set_number_format('y','{x:,.0f}')\n",
    "fig.add_legend()\n",
    "# fig.save_figure(f'{local_path}/output/simulated_method_plot.png')\n",
    "fig.show()"
   ]
  },
  {
   "cell_type": "markdown",
   "metadata": {},
   "source": [
    "## Sensitivity of estimates"
   ]
  },
  {
   "cell_type": "markdown",
   "metadata": {},
   "source": [
    "### Table 3: Sensitivity of variable in column 1 to changes in variable in header"
   ]
  },
  {
   "cell_type": "code",
   "execution_count": null,
   "metadata": {},
   "outputs": [],
   "source": [
    "phi = ['r','gamma1','pi','sigma_eta','sigma_mu']\n",
    "theta = ['beta','rho']\n",
    "sens_mes = est_real.sensitivity(theta=theta, est_par=est_real.est, W=weight_mat_inv, phi_st=phi, step=1.0e-10)\n",
    "for i, est_par in enumerate(theta):\n",
    "    for j, cal_par in enumerate(phi):\n",
    "        print(f\"Sensitivity of {est_par} to {cal_par} is {sens_mes[i,j]:.3f}\")"
   ]
  },
  {
   "cell_type": "code",
   "execution_count": null,
   "metadata": {},
   "outputs": [],
   "source": [
    "# Obtain the optimal parameters\n",
    "rho_opt = est_real.est[1]\n",
    "beta_opt = est_real.est[0]\n",
    "print(f'Optimal beta: {beta_opt}, Optimal rho: {rho_opt}')\n",
    "# setup the model with the optimal parameters\n",
    "model_fit = gp_model(**{'beta':beta_opt,'rho':rho_opt})\n",
    "# solve model\n",
    "model_fit.solve_model()\n",
    "\n",
    "# \n",
    "sim_fit = Simulator(model_fit.par, model_fit.sol)\n",
    "sim_fit = sim_fit.main()"
   ]
  },
  {
   "cell_type": "markdown",
   "metadata": {},
   "source": [
    "# 5 Extension\n"
   ]
  },
  {
   "cell_type": "code",
   "execution_count": null,
   "metadata": {},
   "outputs": [],
   "source": [
    "# Setup params\n",
    "type1_beta = 0.96 # high beta type -- C1\n",
    "type2_beta = 0.9  # low  beta type -- C2\n",
    "share = 0.4 # share of type 1\n",
    "rho = 0.45 # risk aversion parameter\n",
    "dgp_par_ext = [type1_beta,type2_beta,rho,share]\n",
    "\n",
    "model_types = gp_model(**{'beta':type1_beta,'beta2':type2_beta,'share':share,'rho':rho,})\n",
    "# Solve the model\n",
    "model_types.solve_model()\n",
    "# Simulate the model\n",
    "sim_types = Simulator(model_types.par, model_types.sol).main()"
   ]
  },
  {
   "cell_type": "code",
   "execution_count": null,
   "metadata": {},
   "outputs": [],
   "source": [
    "# plot consumption\n",
    "fig = pg.PlotFigure(figsize=(8,5),fontname='Arial')\n",
    "x = range(model_types.par.t0,model_types.par.Tr)\n",
    "fig.add_plot(x,sim_types.Y_avg, label=f\"Income\", linestyle='-',axis='y1')\n",
    "fig.add_plot(x,sim_types.C_avg, label=f\"Aggregate\", linestyle='-',axis='y1')\n",
    "fig.add_plot(x,sim_types.C_avg_type1, label=f\"Type I\", linestyle='-',axis='y1')\n",
    "fig.add_plot(x,sim_types.C_avg_type2, label=f\"Type II\", linestyle='-',axis='y1')\n",
    "fig.add_gridlines(axis='y')\n",
    "fig.set_ylabel(f\"$C_t$\")\n",
    "fig.set_xlabel(f\"$t$\")\n",
    "fig.set_title(f'Consumption over life-cycle for different types')\n",
    "fig.add_legend()\n",
    "fig.show()\n"
   ]
  },
  {
   "cell_type": "code",
   "execution_count": null,
   "metadata": {},
   "outputs": [],
   "source": [
    "weight_mat_inv = np.eye(sim_types.C_avg.shape[0])   # The identity matrix and I^-1=I\n",
    "est_ext = SMD(model=model_types,simulator=Simulator, mom_data=np.log(sim_types.C_avg))"
   ]
  },
  {
   "cell_type": "code",
   "execution_count": null,
   "metadata": {},
   "outputs": [],
   "source": [
    "constraint = lambda x: x[0] - x[1]\n",
    "est_ext.estimate(theta0=[0.91,0.9,0.4,0.2],est_par=['beta','beta2','rho','share'],W=weight_mat_inv,bounds=[(0.01,0.99),(0.01,0.99),(0,10),(0,1)],constraint=constraint, grid=False)"
   ]
  },
  {
   "cell_type": "code",
   "execution_count": null,
   "metadata": {},
   "outputs": [],
   "source": [
    "if est_ext.est_out.success:\n",
    "    print(f'estimated values using scipy optimizer {np.around(est_ext.est,4)}, while true parameters are {dgp_par_ext}, with objective function value {est_ext.est_out.fun:.2f}')\n",
    "else:\n",
    "    print(f'optimization failed')"
   ]
  },
  {
   "cell_type": "code",
   "execution_count": null,
   "metadata": {},
   "outputs": [],
   "source": [
    "# simulate the model with the estimated parameters\n",
    "model_fit_ext = gp_model(**{'beta':est_ext.est[0],'beta2':est_ext.est[1],'rho':est_ext.est[2],'share':est_ext.est[3]})\n",
    "model_fit_ext.solve_model()\n",
    "sim_fit_ext = Simulator(model_fit_ext.par, model_fit_ext.sol).main()\n",
    "\n",
    "# plot the simulated values\n",
    "fig = pg.PlotFigure(figsize=(8,5),fontname='Arial')\n",
    "x = range(model_types.par.t0,model_types.par.Tr)\n",
    "fig.add_plot(x,sim_types.C_avg, label=f\"Agg (DGP)\", linestyle='-',color='black',axis='y1')\n",
    "fig.add_plot(x,sim_fit_ext.C_avg, label=f\"Agg (Estimated)\", linestyle='--',color='black',axis='y1')\n",
    "\n",
    "fig.add_plot(x,sim_types.C_avg_type1, label=f\"Type I\", linestyle='-',color='grey',axis='y1')\n",
    "fig.add_plot(x,sim_fit_ext.C_avg_type1, linestyle='--',color='grey',axis='y1')\n",
    "\n",
    "fig.add_plot(x,sim_types.C_avg_type2, label=f\"Type II\", linestyle='-',color='red',axis='y1')\n",
    "fig.add_plot(x,sim_fit_ext.C_avg_type2, linestyle='--',color='red',axis='y1')\n",
    "\n",
    "\n",
    "fig.add_gridlines(axis='y')\n",
    "fig.set_ylabel(f\"$C_t$\")\n",
    "fig.set_xlabel(f\"$t$\")\n",
    "fig.set_title(f'Consumption over life-cycle for different types')\n",
    "fig.add_legend()\n",
    "#fig.show()\n"
   ]
  },
  {
   "cell_type": "markdown",
   "metadata": {},
   "source": [
    "## Estimation based on extension"
   ]
  },
  {
   "cell_type": "markdown",
   "metadata": {},
   "source": [
    "#### Estimated discount factors based on observed heterogeneity "
   ]
  },
  {
   "cell_type": "markdown",
   "metadata": {},
   "source": [
    "### Table 2: Parameter estimates of extended model."
   ]
  },
  {
   "cell_type": "code",
   "execution_count": null,
   "metadata": {},
   "outputs": [],
   "source": [
    "est_ext = SMD(model=model_types,simulator=Simulator, mom_data=real_data)\n",
    "constraint = lambda x: x[0] - x[1]\n",
    "est_ext.estimate(theta0=[0.975,0.925,0.4,0.5],est_par=['beta','beta2','rho','share'],W=weight_mat_inv,bounds=[(0.01,0.99),(0.01,0.99),(0,10),(0,1)],constraint=constraint, grid=False)"
   ]
  },
  {
   "cell_type": "code",
   "execution_count": null,
   "metadata": {},
   "outputs": [],
   "source": [
    "if est_ext.est_out.success:\n",
    "    print(f'estimated values using scipy optimizer {np.around(est_ext.est,4)}')\n",
    "else:\n",
    "    print(f'optimization failed')"
   ]
  },
  {
   "cell_type": "markdown",
   "metadata": {},
   "source": [
    "### Figure 5: The figure shows interpolated consumption values for the simulated model plotted against the consumption values for the actual data. The figure also plots the consumption values against the data for income"
   ]
  },
  {
   "cell_type": "code",
   "execution_count": null,
   "metadata": {},
   "outputs": [],
   "source": [
    "# simulate the model with the estimated parameters\n",
    "model_fit_ext = gp_model(**{'beta':est_ext.est[0],'beta2':est_ext.est[1],'rho':est_ext.est[2],'share':est_ext.est[3]})\n",
    "model_fit_ext.solve_model()\n",
    "sim_fit_ext = Simulator(model_fit_ext.par, model_fit_ext.sol).main()\n",
    "\n",
    "# plot the simulated values\n",
    "fig = pg.PlotFigure(figsize=(8,5),fontname='Arial')\n",
    "x = range(model_types.par.t0,model_types.par.Tr)\n",
    "fig.add_plot(x,model_data.Ybar[:-1], label=f\"Income Input\", linestyle='-',axis='y1')\n",
    "fig.add_plot(x,np.exp(real_data), label=f\"Consumption input\", linestyle='-',axis='y1')\n",
    "fig.add_plot(x,sim_fit.C_avg, label=f\"Baseline\", linestyle='--',color='lightgrey',axis='y1')\n",
    "fig.add_plot(x,sim_fit_ext.C_avg, label=f\"Extented\", linestyle='--',color='grey',axis='y1')\n",
    "fig.add_gridlines(axis='y')\n",
    "fig.set_number_format('y','{x:,.0f}')\n",
    "fig.set_ylabel(\"$C_t^{agg}$\")\n",
    "fig.set_xlabel(\"$t$\")\n",
    "fig.add_legend()\n",
    "fig.save_figure(f'{local_path}/output/extended_model_fit.png')\n",
    "fig.show()\n"
   ]
  }
 ],
 "metadata": {
  "kernelspec": {
   "display_name": "base",
   "language": "python",
   "name": "python3"
  },
  "language_info": {
   "codemirror_mode": {
    "name": "ipython",
    "version": 3
   },
   "file_extension": ".py",
   "mimetype": "text/x-python",
   "name": "python",
   "nbconvert_exporter": "python",
   "pygments_lexer": "ipython3",
   "version": "3.9.16"
  },
  "vscode": {
   "interpreter": {
    "hash": "ad2bdc8ecc057115af97d19610ffacc2b4e99fae6737bb82f5d7fb13d2f2c186"
   }
  }
 },
 "nbformat": 4,
 "nbformat_minor": 4
}
