{
 "cells": [
  {
   "cell_type": "code",
   "execution_count": null,
   "metadata": {},
   "outputs": [],
   "source": [
    "# magics: ensures that any changes to the modules loaded below will be re-loaded automatically\n",
    "%load_ext autoreload\n",
    "%autoreload 2\n",
    "\n",
    "# load general packages\n",
    "import matplotlib.pyplot as plt\n",
    "# load modules related to this exercise\n",
    "\n",
    "import tools \n",
    "from model import model_gp"
   ]
  },
  {
   "cell_type": "code",
   "execution_count": null,
   "metadata": {},
   "outputs": [],
   "source": []
  },
  {
   "cell_type": "code",
   "execution_count": null,
   "metadata": {},
   "outputs": [],
   "source": [
    "#Load baseline settings\n",
    "model = model_gp()"
   ]
  },
  {
   "cell_type": "code",
   "execution_count": null,
   "metadata": {},
   "outputs": [],
   "source": [
    "model.life_cycle_setup()\n",
    "\n",
    "#Solve and simulate\n",
    "model.create_grids()\n",
    "model.solve()\n",
    "model.simulate()\n",
    "\n",
    "par = model.par\n",
    "sol = model.sol\n",
    "sim = model.sim"
   ]
  }
 ],
 "metadata": {
  "language_info": {
   "name": "python"
  }
 },
 "nbformat": 4,
 "nbformat_minor": 2
}
